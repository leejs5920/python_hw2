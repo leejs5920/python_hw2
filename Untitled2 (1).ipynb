{
 "cells": [
  {
   "cell_type": "markdown",
   "metadata": {},
   "source": [
    "#Assignment2"
   ]
  },
  {
   "cell_type": "markdown",
   "metadata": {},
   "source": [
    "#####다음 6개의 Expression에 대해 Evaluation 결과 값을 출력하고, 해당 결과가 나온 이유에 대해 설명하시오.\n",
    "* 1 and 2 and 3 and 4\n",
    "* 1 or 2 or 3 or 4\n",
    "* 1 and 2 or 3 and 4\n",
    "* (1 and 2) or (3 and 4)\n",
    "* 1 or 2 and 3 or 4\n",
    "* (1 or 2) and (3 or 4)"
   ]
  },
  {
   "cell_type": "code",
   "execution_count": 1,
   "metadata": {
    "collapsed": false
   },
   "outputs": [
    {
     "name": "stdout",
     "output_type": "stream",
     "text": [
      "4\n"
     ]
    }
   ],
   "source": [
    "# 1 and 2 and 3 and 4\n",
    "print 1 and 2 and 3 and 4"
   ]
  },
  {
   "cell_type": "markdown",
   "metadata": {},
   "source": [
    "이유 : and 같은 경우 뒷부분 까지 확인을 해야 한다. 그러므로 출력값은 4이다."
   ]
  },
  {
   "cell_type": "code",
   "execution_count": 2,
   "metadata": {
    "collapsed": false
   },
   "outputs": [
    {
     "name": "stdout",
     "output_type": "stream",
     "text": [
      "1\n"
     ]
    }
   ],
   "source": [
    "# 1 or 2 or 3 or 4\n",
    "print 1 or 2 or 3 or 4"
   ]
  },
  {
   "cell_type": "markdown",
   "metadata": {},
   "source": [
    "이유 : 앞이 true 이므로 뒤 확인 생략 = 1 출력"
   ]
  },
  {
   "cell_type": "code",
   "execution_count": 7,
   "metadata": {
    "collapsed": false
   },
   "outputs": [
    {
     "name": "stdout",
     "output_type": "stream",
     "text": [
      "2\n"
     ]
    }
   ],
   "source": [
    "# 1 and 2 or 3 and 4\n",
    "print 1 and 2 or 3 and 4"
   ]
  },
  {
   "cell_type": "markdown",
   "metadata": {},
   "source": [
    "이유 : (1 and 2) = 2 인데 이것이 true이므로 or 뒤에 확인은 생략하도록 한다. 그러므로 출력값은 2이다."
   ]
  },
  {
   "cell_type": "code",
   "execution_count": 4,
   "metadata": {
    "collapsed": false
   },
   "outputs": [
    {
     "name": "stdout",
     "output_type": "stream",
     "text": [
      "2\n"
     ]
    }
   ],
   "source": [
    "# (1 and 2) or (3 and 4)\n",
    "print (1 and 2) or (3 and 4)"
   ]
  },
  {
   "cell_type": "markdown",
   "metadata": {},
   "source": [
    "이유 : ((1 and 2) = 2 ) or ((3 and 4) = 4) 인데 or앞에가 true이므로 뒤에 확인은 생략하도록 한다. 그러므로 출력값은 2이다."
   ]
  },
  {
   "cell_type": "code",
   "execution_count": 5,
   "metadata": {
    "collapsed": false
   },
   "outputs": [
    {
     "name": "stdout",
     "output_type": "stream",
     "text": [
      "1\n"
     ]
    }
   ],
   "source": [
    "# 1 or 2 and 3 or 4\n",
    "print 1 or 2 and 3 or 4"
   ]
  },
  {
   "cell_type": "markdown",
   "metadata": {},
   "source": [
    "이유 : or 앞이 true이므로 뒤 확인은 생략한다. 그러므로 출력값은 1이다."
   ]
  },
  {
   "cell_type": "code",
   "execution_count": 6,
   "metadata": {
    "collapsed": false
   },
   "outputs": [
    {
     "name": "stdout",
     "output_type": "stream",
     "text": [
      "3\n"
     ]
    }
   ],
   "source": [
    "# (1 or 2) and (3 or 4)\n",
    "print (1 or 2) and (3 or 4)"
   ]
  },
  {
   "cell_type": "markdown",
   "metadata": {},
   "source": [
    "이유 : ((1 or 2) = 1) and ((3 or 4) = 3) 이므로 출력값은 3이다."
   ]
  },
  {
   "cell_type": "markdown",
   "metadata": {},
   "source": [
    "##### 키보드로 정수값을 입력 받고 그 값이 양수인지 음수인지를 비트 연산자를  이용하여 판단하는 프로그램을 작성하시오\n",
    "* [참고] 가장 왼쪽에 있는 비트가 0이면 양수이며, 1이면 음수이다\n",
    "* [참고] 수업 보충자료를 참고하시오."
   ]
  },
  {
   "cell_type": "code",
   "execution_count": 23,
   "metadata": {
    "collapsed": false
   },
   "outputs": [
    {
     "name": "stdout",
     "output_type": "stream",
     "text": [
      "Enter the number : 3\n",
      "2\n",
      "0b11\n",
      "positive Number\n"
     ]
    }
   ],
   "source": [
    "import math\n",
    "\n",
    "num = input(\"Enter the number : \")\n",
    "\n",
    "def bitcounter(n):\n",
    "    return math.floor(math.log(n,2)) + 1\n",
    "\n",
    "\n",
    "print num.bit_length()  # 해당 수치를 표현하기 위한 비트의 개수를 반환 \n",
    "print bin(num)          # 해당 수치를 2진수로 변환\n",
    "\n",
    "if (num > 0) :\n",
    "    print \"positive Number\"\n",
    "if(num < 0) :\n",
    "    print \"negative Number\""
   ]
  },
  {
   "cell_type": "markdown",
   "metadata": {},
   "source": [
    "##### 경로에 해당하는 문자열 1개를 입력 받아 그 안에 디렉토리 경로명과 파일명을 분리하여 리스트로 반환하는 함수  div_path(s)를 작성하시오.\n",
    "* 인자로 전달하는 문자열은 경로만 들어간다고 가정한다.\n",
    "* 각 디렉토리와 파일을 구분하는 문자는 '/'로 가정한다.\n",
    "* 반환하는 리스트의 첫번째 원소는 디렉토리이고 두번째 원소는 파일명이다.\n",
    "* 다음과 같은 실행 및 출력 결과가 도출되어야 한다.\n",
    "* ---div_path('/usr/local/bin/python')\n",
    "* ---['/usr/local/bin', 'python']\n",
    "* ---div_path('/home/chulsoo/test.txt')\n",
    "* ---['/home/chulsoo', 'test.txt']\n",
    "* [참고] 리스트(l) 내에 새로운 정수값 (예를 들어 10)을 넣는 방법은 l.append(10)이다.\n"
   ]
  },
  {
   "cell_type": "code",
   "execution_count": 18,
   "metadata": {
    "collapsed": false
   },
   "outputs": [
    {
     "name": "stdout",
     "output_type": "stream",
     "text": [
      "(['', 'usr', 'local', 'bin'], 'python')\n",
      "(['', 'home', 'chulsoo'], 'test.txt')\n"
     ]
    }
   ],
   "source": [
    "def div_path(s) :\n",
    "    word = '/usr/local/bin/python'\n",
    "    a = word.split('/')\n",
    "    return a[0:4], a[4]   \n",
    "    \n",
    "print div_path('/usr/local/bin/python')\n",
    "    \n",
    "def div_path(s) :\n",
    "    word = '/home/chulsoo/test.txt'\n",
    "    a = word.split('/')\n",
    "    return a[0:3], a[3]   \n",
    "    \n",
    "print div_path('/home/chulsoo/test.txt')"
   ]
  },
  {
   "cell_type": "markdown",
   "metadata": {},
   "source": [
    "##### 두 개의 리스트를 인자로 받아서 그 두 개의 리스트에 대한 '합집합'을 반환하는 함수 list_union(lista, listb)를 작성하시오\n",
    "* 인자로 전달하는 리스트 2 개에는 정수값만 들어간다고 가정하자.\n",
    "* 함수 내에서 새로운 리스트를 만들어 그 리스트 내에 인자로 받은 두 리스트의 모든 원소를 넣어 반환한다\n",
    "* 반환하는 리스트에는 절대로 중복된 원소가 들어 있으면 안된다 (집합의 조건).\n",
    "* 반환하는 리스트는 정렬이 되어 있어야 한다\n",
    "* 다음과 같은 실행 및 출력 결과가 도출되어야 한다.\n",
    "* ▷ list_union([1, 2, 3], [1, 2, 4])\n",
    "        ◇  [1, 2, 3, 4]\n",
    " ▷ list_union([-10, -5, 0, -1], [100, 9, 0, 9])\n",
    "        ◇  [-10, -5, -1, 0, 9, 100]\n",
    "▷ list_union([0, 1, 2], [0, 1, 2])\n",
    "        ◇  [0, 1, 2]\n",
    "        \n",
    "* [참고] 리스트(l) 내에 새로운 정수값 (예를 들어 10)을 넣는 방법은 l.append(10) 이다.\n",
    "* [참고] 임의의 정수값 (x)이 리스트 (l) 내에 존재하는지 판단하는 방법은 x in l 이다."
   ]
  },
  {
   "cell_type": "code",
   "execution_count": 19,
   "metadata": {
    "collapsed": false
   },
   "outputs": [
    {
     "name": "stdout",
     "output_type": "stream",
     "text": [
      "[-10, -5, -1, 0, 9, 9, 100]\n",
      "[1, 2, 2, 3, 4]\n",
      "[0, 1, 1, 2]\n"
     ]
    }
   ],
   "source": [
    "def list_union(lista, listb):\n",
    "    lista = [-10, -5, -1]\n",
    "    listb = [100, 9, 0, 9]\n",
    "        \n",
    "    for i in lista:\n",
    "        for j in listb:\n",
    "            if(i==j):\n",
    "               lista.remove(i)\n",
    "\n",
    "    c = lista + listb\n",
    "    c.sort()\n",
    "    return c\n",
    "\n",
    "print list_union([-10, -5, -1], [100, 9, 0, 9])\n",
    "\n",
    "def list_union(lista, listb):\n",
    "    lista = [1, 2, 3]\n",
    "    listb = [1, 2, 4]\n",
    "        \n",
    "    for i in lista:\n",
    "        for j in listb:\n",
    "            if(i==j):\n",
    "               lista.remove(i)\n",
    "\n",
    "    c = lista + listb\n",
    "    c.sort()\n",
    "    return c\n",
    "\n",
    "print list_union([1, 2, 3], [1, 2, 4])\n",
    "\n",
    "def list_union(lista, listb):\n",
    "    lista = [0, 1, 2]\n",
    "    listb = [0, 1, 2]\n",
    "        \n",
    "    for i in lista:\n",
    "        for j in listb:\n",
    "            if(i==j):\n",
    "               lista.remove(i)\n",
    "\n",
    "    c = lista + listb\n",
    "    c.sort()\n",
    "    return c\n",
    "\n",
    "print list_union([0, 1, 2], [0, 1, 2])\n",
    "\n",
    "\n"
   ]
  },
  {
   "cell_type": "markdown",
   "metadata": {},
   "source": [
    "중복된 원소를 완벽하게 처리하지 못했습니다."
   ]
  },
  {
   "cell_type": "markdown",
   "metadata": {},
   "source": [
    "##### [프로젝트 오일러 문제 4] 세 자리 수를 곱해 만들 수 있는 가장 큰 대칭수는 얼마입니까?"
   ]
  },
  {
   "cell_type": "code",
   "execution_count": 11,
   "metadata": {
    "collapsed": false
   },
   "outputs": [
    {
     "name": "stdout",
     "output_type": "stream",
     "text": [
      "906609\n"
     ]
    }
   ],
   "source": [
    "# -*- coding: utf-8 -*-\n",
    "xmax = ymax = 999\n",
    "result = []\n",
    "for x in range(xmax, 1, -1):\n",
    "    for y in range(ymax, 1, -1):\n",
    "        n = x * y\n",
    "        if str(n) == str(n)[::-1]:\n",
    "            result.append(n)\n",
    "result.sort()\n",
    "print result[-1]"
   ]
  },
  {
   "cell_type": "markdown",
   "metadata": {},
   "source": [
    "#####[프로젝트 오일러 문제 5] 1 ~ 20 사이의 어떤 수로도 나누어 떨어지는 가장 작은 수는 얼마입니까?"
   ]
  },
  {
   "cell_type": "code",
   "execution_count": 10,
   "metadata": {
    "collapsed": false
   },
   "outputs": [
    {
     "name": "stdout",
     "output_type": "stream",
     "text": [
      "232792560\n"
     ]
    }
   ],
   "source": [
    "# -*- coding: utf-8 -*-\n",
    "def max(a, b): #최대공약수\n",
    "    while (b != 0):\n",
    "        temp = a % b\n",
    "        a = b\n",
    "        b = temp\n",
    "    return abs(a)\n",
    "\n",
    "def min(a, b): #최소공배수\n",
    "    max_value = max(a, b)\n",
    "    if (max_value == 0) : return 0\n",
    "    return abs((a*b) / max_value)\n",
    "\n",
    "num = 1\n",
    "for i in range(1, 21) :\n",
    "    num = min(num, i)\n",
    "print num"
   ]
  },
  {
   "cell_type": "markdown",
   "metadata": {},
   "source": [
    "#####[프로젝트 오일러 문제 6] 1부터 100까지 자연수에 대해 \"합의 제곱\"과 \"제곱의 합\"의 차이는 얼마입니까?"
   ]
  },
  {
   "cell_type": "code",
   "execution_count": 8,
   "metadata": {
    "collapsed": false
   },
   "outputs": [
    {
     "name": "stdout",
     "output_type": "stream",
     "text": [
      "제곱의 합 : \n",
      "338350\n",
      "합의 제곱 : \n",
      "25502500\n",
      "\n",
      "합의 제곱 - 제곱의 합 = \n",
      "25164150\n"
     ]
    }
   ],
   "source": [
    "def mult1(a, b):\n",
    "    return a**b\n",
    "\n",
    "sum1 = 0\n",
    "for i in range(0, 101):\n",
    "    \n",
    "    sum1 += mult1(i, 2)\n",
    "\n",
    "print str(\"제곱의 합 : \")\n",
    "print sum1\n",
    "\n",
    "sum2 = 0\n",
    "for j in range(0, 101):\n",
    "    sum2 += j\n",
    "\n",
    "\n",
    "b = mult1(sum2, 2)\n",
    "print str(\"합의 제곱 : \")\n",
    "print  b\n",
    "\n",
    "print\n",
    "print str(\"합의 제곱 - 제곱의 합 = \")\n",
    "print b - sum1 "
   ]
  },
  {
   "cell_type": "markdown",
   "metadata": {},
   "source": [
    "##### [Incremental Project] 웹 URL로 지정된 웹페이지를 문자열로 가져와 1) 모든 HTML 태그를 제외한 순수 텍스트 문자열만을 걸러내고, 2) 그 순수 텍스트 문자열 안에 존재하는 단어가 총 몇개인지 출력하는 프로그램을 작성하"
   ]
  },
  {
   "cell_type": "code",
   "execution_count": 12,
   "metadata": {
    "collapsed": false
   },
   "outputs": [
    {
     "name": "stdout",
     "output_type": "stream",
     "text": [
      "23501\n"
     ]
    }
   ],
   "source": [
    "'''\n",
    "Created on 2015. 10. 7.\n",
    "@author: user\n",
    "'''\n",
    "import urllib2\n",
    "source = urllib2.urlopen(\"http://cse.kut.ac.kr/\").read()\n",
    "string = []\n",
    "\n",
    "for line in source.split():\n",
    "    for word in line:\n",
    "        string += word.strip('<>')\n",
    "    string += '\\n'\n",
    "    \n",
    "#source.split()\n",
    "print len(string) "
   ]
  },
  {
   "cell_type": "markdown",
   "metadata": {},
   "source": [
    "#### 숙제 이후의 소감 : 이번 과제는 막히는 부분이 많았기 때문에 저번 과제에 비해 시간이 오래 걸렸다. 앞으로 더 열심히 해야 앞으로의 과제도 잘 제출할 수 있을 것 같다."
   ]
  }
 ],
 "metadata": {
  "kernelspec": {
   "display_name": "Python 2",
   "language": "python",
   "name": "python2"
  },
  "language_info": {
   "codemirror_mode": {
    "name": "ipython",
    "version": 2
   },
   "file_extension": ".py",
   "mimetype": "text/x-python",
   "name": "python",
   "nbconvert_exporter": "python",
   "pygments_lexer": "ipython2",
   "version": "2.7.9"
  }
 },
 "nbformat": 4,
 "nbformat_minor": 0
}
